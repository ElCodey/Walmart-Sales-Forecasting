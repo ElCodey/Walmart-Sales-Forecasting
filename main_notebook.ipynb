{
 "cells": [
  {
   "cell_type": "code",
   "execution_count": 1,
   "id": "093ffaed",
   "metadata": {},
   "outputs": [],
   "source": [
    "import pandas as pd\n",
    "from sklearn.preprocessing import StandardScaler\n",
    "from sklearn.compose import ColumnTransformer \n",
    "from sklearn.ensemble import RandomForestRegressor\n",
    "from sklearn.model_selection import train_test_split"
   ]
  },
  {
   "cell_type": "code",
   "execution_count": 2,
   "id": "0eb2cb63",
   "metadata": {},
   "outputs": [],
   "source": [
    "X_train = pd.read_csv('X_train2')\n",
    "y_train = pd.read_csv(\"y_train2\")\n",
    "X_dev = pd.read_csv('X_dev')\n",
    "y_dev = pd.read_csv('y_dev')"
   ]
  },
  {
   "cell_type": "code",
   "execution_count": 3,
   "id": "58d8b494",
   "metadata": {},
   "outputs": [],
   "source": [
    "X_train = X_train.drop(['Date', 'Unnamed: 0'], axis=1)"
   ]
  },
  {
   "cell_type": "code",
   "execution_count": 4,
   "id": "165add48",
   "metadata": {},
   "outputs": [],
   "source": [
    "def transform_scale(df_X):\n",
    "    scaler = StandardScaler()\n",
    "    col_names = ['Temperature', 'Fuel_Price', 'CPI', 'Unemployment', 'Size', 'Month', 'Week', 'Day', 'Week_till_xmas', 'Year']\n",
    "    features = df_X[col_names]\n",
    "    ct = ColumnTransformer([\n",
    "        ('name', StandardScaler(), ['Temperature', 'Fuel_Price', 'CPI', 'Unemployment', 'Size','Month', 'Week', 'Day', 'Week_till_xmas', 'Year' ])\n",
    "    ], remainder='passthrough')\n",
    "    col_names = ['Temperature', 'Fuel_Price', 'CPI', 'Unemployment', 'Size', 'Month', 'Week', 'Day', 'Week_till_xmas', 'Year']\n",
    "    features = df_X[col_names]\n",
    "    scaler = StandardScaler().fit(features.values)\n",
    "    features = scaler.transform(features.values)\n",
    "    df_X[['Temperature', 'Fuel_Price', 'CPI', 'Unemployment', 'Size', 'Month', 'Week', 'Day', 'Week_till_xmas', 'Year']] = features\n",
    "    return df_X"
   ]
  },
  {
   "cell_type": "code",
   "execution_count": 5,
   "id": "e4e2c088",
   "metadata": {},
   "outputs": [],
   "source": [
    "X_train = transform_scale(X_train)"
   ]
  },
  {
   "cell_type": "code",
   "execution_count": null,
   "id": "1d6c227c",
   "metadata": {},
   "outputs": [],
   "source": [
    "rf_model = RandomForestRegressor()\n",
    "rf_model.fit(X_train, y_train)"
   ]
  },
  {
   "cell_type": "code",
   "execution_count": null,
   "id": "be9a70d0",
   "metadata": {},
   "outputs": [],
   "source": [
    "y_train.shape"
   ]
  },
  {
   "cell_type": "code",
   "execution_count": null,
   "id": "d902be1d",
   "metadata": {},
   "outputs": [],
   "source": [
    "X_train.shape"
   ]
  },
  {
   "cell_type": "code",
   "execution_count": null,
   "id": "8e591fec",
   "metadata": {},
   "outputs": [],
   "source": [
    "X_dev.shape"
   ]
  },
  {
   "cell_type": "code",
   "execution_count": null,
   "id": "8169f713",
   "metadata": {},
   "outputs": [],
   "source": [
    "y_dev.shape"
   ]
  },
  {
   "cell_type": "code",
   "execution_count": null,
   "id": "630e362d",
   "metadata": {},
   "outputs": [],
   "source": []
  },
  {
   "cell_type": "code",
   "execution_count": null,
   "id": "b2304ea2",
   "metadata": {},
   "outputs": [],
   "source": []
  },
  {
   "cell_type": "code",
   "execution_count": null,
   "id": "6a8ff0e9",
   "metadata": {},
   "outputs": [],
   "source": []
  },
  {
   "cell_type": "code",
   "execution_count": null,
   "id": "e509d52f",
   "metadata": {},
   "outputs": [],
   "source": []
  },
  {
   "cell_type": "code",
   "execution_count": null,
   "id": "1d780166",
   "metadata": {},
   "outputs": [],
   "source": []
  },
  {
   "cell_type": "code",
   "execution_count": null,
   "id": "09b419be",
   "metadata": {},
   "outputs": [],
   "source": []
  },
  {
   "cell_type": "code",
   "execution_count": null,
   "id": "08eaa28c",
   "metadata": {},
   "outputs": [],
   "source": []
  },
  {
   "cell_type": "code",
   "execution_count": null,
   "id": "e2da10cc",
   "metadata": {},
   "outputs": [],
   "source": []
  },
  {
   "cell_type": "code",
   "execution_count": null,
   "id": "3e570d17",
   "metadata": {},
   "outputs": [],
   "source": []
  },
  {
   "cell_type": "code",
   "execution_count": null,
   "id": "d8ff830d",
   "metadata": {},
   "outputs": [],
   "source": []
  }
 ],
 "metadata": {
  "kernelspec": {
   "display_name": "Python 3",
   "language": "python",
   "name": "python3"
  },
  "language_info": {
   "codemirror_mode": {
    "name": "ipython",
    "version": 3
   },
   "file_extension": ".py",
   "mimetype": "text/x-python",
   "name": "python",
   "nbconvert_exporter": "python",
   "pygments_lexer": "ipython3",
   "version": "3.8.8"
  }
 },
 "nbformat": 4,
 "nbformat_minor": 5
}
